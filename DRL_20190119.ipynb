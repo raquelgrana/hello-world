{
  "nbformat": 4,
  "nbformat_minor": 0,
  "metadata": {
    "colab": {
      "name": "Untitled4.ipynb",
      "version": "0.3.2",
      "provenance": [],
      "include_colab_link": true
    },
    "kernelspec": {
      "name": "python3",
      "display_name": "Python 3"
    }
  },
  "cells": [
    {
      "cell_type": "markdown",
      "metadata": {
        "id": "view-in-github",
        "colab_type": "text"
      },
      "source": [
        "<a href=\"https://colab.research.google.com/github/raquelgrana/hello-world/blob/master/DRL_20190119.ipynb\" target=\"_parent\"><img src=\"https://colab.research.google.com/assets/colab-badge.svg\" alt=\"Open In Colab\"/></a>"
      ]
    },
    {
      "metadata": {
        "id": "FlSeETVokypy",
        "colab_type": "code",
        "colab": {
          "base_uri": "https://localhost:8080/",
          "height": 1142
        },
        "outputId": "0b809cad-7777-4483-9fbb-ee8a32c8c0ff"
      },
      "cell_type": "code",
      "source": [
        "!git clone https://github.com/iht/DeepReinforcementLearning.git\n",
        "!mv DeepReinforcementLearning/* .\n",
        "!pip install -r requirements_kschool.txt"
      ],
      "execution_count": 1,
      "outputs": [
        {
          "output_type": "stream",
          "text": [
            "Cloning into 'DeepReinforcementLearning'...\n",
            "remote: Enumerating objects: 29, done.\u001b[K\n",
            "remote: Counting objects: 100% (29/29), done.\u001b[K\n",
            "remote: Compressing objects: 100% (22/22), done.\u001b[K\n",
            "remote: Total 197 (delta 13), reused 20 (delta 7), pack-reused 168\u001b[K\n",
            "Receiving objects: 100% (197/197), 2.71 MiB | 10.10 MiB/s, done.\n",
            "Resolving deltas: 100% (92/92), done.\n",
            "Requirement already satisfied: absl-py in /usr/local/lib/python3.6/dist-packages (from -r requirements_kschool.txt (line 1)) (0.6.1)\n",
            "Collecting appnope (from -r requirements_kschool.txt (line 2))\n",
            "  Downloading https://files.pythonhosted.org/packages/87/a9/7985e6a53402f294c8f0e8eff3151a83f1fb901fa92909bb3ff29b4d22af/appnope-0.1.0-py2.py3-none-any.whl\n",
            "Requirement already satisfied: astor in /usr/local/lib/python3.6/dist-packages (from -r requirements_kschool.txt (line 3)) (0.7.1)\n",
            "Requirement already satisfied: bleach in /usr/local/lib/python3.6/dist-packages (from -r requirements_kschool.txt (line 4)) (3.1.0)\n",
            "Requirement already satisfied: cycler in /usr/local/lib/python3.6/dist-packages (from -r requirements_kschool.txt (line 5)) (0.10.0)\n",
            "Requirement already satisfied: decorator in /usr/local/lib/python3.6/dist-packages (from -r requirements_kschool.txt (line 6)) (4.3.0)\n",
            "Requirement already satisfied: gast in /usr/local/lib/python3.6/dist-packages (from -r requirements_kschool.txt (line 7)) (0.2.2)\n",
            "Requirement already satisfied: graphviz in /usr/local/lib/python3.6/dist-packages (from -r requirements_kschool.txt (line 8)) (0.10.1)\n",
            "Requirement already satisfied: grpcio in /usr/local/lib/python3.6/dist-packages (from -r requirements_kschool.txt (line 9)) (1.15.0)\n",
            "Requirement already satisfied: h5py in /usr/local/lib/python3.6/dist-packages (from -r requirements_kschool.txt (line 10)) (2.8.0)\n",
            "Requirement already satisfied: html5lib in /usr/local/lib/python3.6/dist-packages (from -r requirements_kschool.txt (line 11)) (1.0.1)\n",
            "Requirement already satisfied: ipykernel in /usr/local/lib/python3.6/dist-packages (from -r requirements_kschool.txt (line 12)) (4.6.1)\n",
            "Requirement already satisfied: ipython in /usr/local/lib/python3.6/dist-packages (from -r requirements_kschool.txt (line 13)) (5.5.0)\n",
            "Requirement already satisfied: ipython-genutils in /usr/local/lib/python3.6/dist-packages (from -r requirements_kschool.txt (line 14)) (0.2.0)\n",
            "Collecting jedi (from -r requirements_kschool.txt (line 15))\n",
            "\u001b[?25l  Downloading https://files.pythonhosted.org/packages/c2/bc/54d53f5bc4658380d0eca9055d72be4df45e5bfd91a4bac97da224a92553/jedi-0.13.2-py2.py3-none-any.whl (177kB)\n",
            "\u001b[K    100% |████████████████████████████████| 184kB 9.8MB/s \n",
            "\u001b[?25hRequirement already satisfied: jupyter-client in /usr/local/lib/python3.6/dist-packages (from -r requirements_kschool.txt (line 16)) (5.2.4)\n",
            "Requirement already satisfied: jupyter-core in /usr/local/lib/python3.6/dist-packages (from -r requirements_kschool.txt (line 17)) (4.4.0)\n",
            "Requirement already satisfied: Keras in /usr/local/lib/python3.6/dist-packages (from -r requirements_kschool.txt (line 18)) (2.2.4)\n",
            "Requirement already satisfied: kiwisolver in /usr/local/lib/python3.6/dist-packages (from -r requirements_kschool.txt (line 19)) (1.0.1)\n",
            "Requirement already satisfied: Markdown in /usr/local/lib/python3.6/dist-packages (from -r requirements_kschool.txt (line 20)) (3.0.1)\n",
            "Requirement already satisfied: matplotlib in /usr/local/lib/python3.6/dist-packages (from -r requirements_kschool.txt (line 21)) (3.0.2)\n",
            "Requirement already satisfied: numpy in /usr/local/lib/python3.6/dist-packages (from -r requirements_kschool.txt (line 22)) (1.14.6)\n",
            "Collecting parso (from -r requirements_kschool.txt (line 23))\n",
            "\u001b[?25l  Downloading https://files.pythonhosted.org/packages/09/51/9c48a46334be50c13d25a3afe55fa05c445699304c5ad32619de953a2305/parso-0.3.1-py2.py3-none-any.whl (88kB)\n",
            "\u001b[K    100% |████████████████████████████████| 92kB 26.8MB/s \n",
            "\u001b[?25hRequirement already satisfied: pexpect in /usr/local/lib/python3.6/dist-packages (from -r requirements_kschool.txt (line 24)) (4.6.0)\n",
            "Requirement already satisfied: pickleshare in /usr/local/lib/python3.6/dist-packages (from -r requirements_kschool.txt (line 25)) (0.7.5)\n",
            "Requirement already satisfied: prompt-toolkit in /usr/local/lib/python3.6/dist-packages (from -r requirements_kschool.txt (line 26)) (1.0.15)\n",
            "Requirement already satisfied: protobuf in /usr/local/lib/python3.6/dist-packages (from -r requirements_kschool.txt (line 27)) (3.6.1)\n",
            "Requirement already satisfied: ptyprocess in /usr/local/lib/python3.6/dist-packages (from -r requirements_kschool.txt (line 28)) (0.6.0)\n",
            "Requirement already satisfied: pydot in /usr/local/lib/python3.6/dist-packages (from -r requirements_kschool.txt (line 29)) (1.3.0)\n",
            "Requirement already satisfied: pydot-ng in /usr/local/lib/python3.6/dist-packages (from -r requirements_kschool.txt (line 30)) (2.0.0)\n",
            "Requirement already satisfied: Pygments in /usr/local/lib/python3.6/dist-packages (from -r requirements_kschool.txt (line 31)) (2.1.3)\n",
            "Requirement already satisfied: pyparsing in /usr/local/lib/python3.6/dist-packages (from -r requirements_kschool.txt (line 32)) (2.3.1)\n",
            "Requirement already satisfied: python-dateutil in /usr/local/lib/python3.6/dist-packages (from -r requirements_kschool.txt (line 33)) (2.5.3)\n",
            "Requirement already satisfied: pytz in /usr/local/lib/python3.6/dist-packages (from -r requirements_kschool.txt (line 34)) (2018.9)\n",
            "Requirement already satisfied: PyYAML in /usr/local/lib/python3.6/dist-packages (from -r requirements_kschool.txt (line 35)) (3.13)\n",
            "Requirement already satisfied: pyzmq in /usr/local/lib/python3.6/dist-packages (from -r requirements_kschool.txt (line 36)) (17.0.0)\n",
            "Requirement already satisfied: scipy in /usr/local/lib/python3.6/dist-packages (from -r requirements_kschool.txt (line 37)) (1.1.0)\n",
            "Requirement already satisfied: simplegeneric in /usr/local/lib/python3.6/dist-packages (from -r requirements_kschool.txt (line 38)) (0.8.1)\n",
            "Requirement already satisfied: six in /usr/local/lib/python3.6/dist-packages (from -r requirements_kschool.txt (line 39)) (1.11.0)\n",
            "Requirement already satisfied: tensorboard in /usr/local/lib/python3.6/dist-packages (from -r requirements_kschool.txt (line 40)) (1.12.2)\n",
            "Requirement already satisfied: tensorflow in /usr/local/lib/python3.6/dist-packages (from -r requirements_kschool.txt (line 41)) (1.12.0)\n",
            "Requirement already satisfied: termcolor in /usr/local/lib/python3.6/dist-packages (from -r requirements_kschool.txt (line 42)) (1.1.0)\n",
            "Requirement already satisfied: tornado in /usr/local/lib/python3.6/dist-packages (from -r requirements_kschool.txt (line 43)) (4.5.3)\n",
            "Requirement already satisfied: traitlets in /usr/local/lib/python3.6/dist-packages (from -r requirements_kschool.txt (line 44)) (4.3.2)\n",
            "Requirement already satisfied: wcwidth in /usr/local/lib/python3.6/dist-packages (from -r requirements_kschool.txt (line 45)) (0.1.7)\n",
            "Requirement already satisfied: Werkzeug in /usr/local/lib/python3.6/dist-packages (from -r requirements_kschool.txt (line 46)) (0.14.1)\n",
            "Requirement already satisfied: webencodings in /usr/local/lib/python3.6/dist-packages (from bleach->-r requirements_kschool.txt (line 4)) (0.5.1)\n",
            "Requirement already satisfied: setuptools>=18.5 in /usr/local/lib/python3.6/dist-packages (from ipython->-r requirements_kschool.txt (line 13)) (40.6.3)\n",
            "Requirement already satisfied: keras-preprocessing>=1.0.5 in /usr/local/lib/python3.6/dist-packages (from Keras->-r requirements_kschool.txt (line 18)) (1.0.5)\n",
            "Requirement already satisfied: keras-applications>=1.0.6 in /usr/local/lib/python3.6/dist-packages (from Keras->-r requirements_kschool.txt (line 18)) (1.0.6)\n",
            "Requirement already satisfied: wheel>=0.26; python_version >= \"3\" in /usr/local/lib/python3.6/dist-packages (from tensorboard->-r requirements_kschool.txt (line 40)) (0.32.3)\n",
            "Installing collected packages: appnope, parso, jedi\n",
            "Successfully installed appnope-0.1.0 jedi-0.13.2 parso-0.3.1\n"
          ],
          "name": "stdout"
        }
      ]
    },
    {
      "metadata": {
        "id": "5rqtUvhckzfW",
        "colab_type": "code",
        "colab": {}
      },
      "cell_type": "code",
      "source": [
        "from game import Game\n"
      ],
      "execution_count": 0,
      "outputs": []
    },
    {
      "metadata": {
        "id": "Ee9dCo0Gk9ww",
        "colab_type": "code",
        "colab": {}
      },
      "cell_type": "code",
      "source": [
        ""
      ],
      "execution_count": 0,
      "outputs": []
    }
  ]
}